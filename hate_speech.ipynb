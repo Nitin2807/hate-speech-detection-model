{
 "cells": [
  {
   "cell_type": "code",
   "execution_count": 1,
   "id": "9917abde",
   "metadata": {},
   "outputs": [],
   "source": [
    "import numpy as np\n",
    "import pandas as pd\n",
    "ndf = pd.read_csv('labeled_data.csv')"
   ]
  },
  {
   "cell_type": "code",
   "execution_count": 2,
   "id": "04988d72",
   "metadata": {},
   "outputs": [
    {
     "data": {
      "text/plain": [
       "Unnamed: 0            0\n",
       "count                 0\n",
       "hate_speech           0\n",
       "offensive_language    0\n",
       "neither               0\n",
       "class                 0\n",
       "tweet                 0\n",
       "dtype: int64"
      ]
     },
     "execution_count": 2,
     "metadata": {},
     "output_type": "execute_result"
    }
   ],
   "source": [
    "ndf.isnull().sum()"
   ]
  },
  {
   "cell_type": "code",
   "execution_count": 3,
   "id": "42b2c068",
   "metadata": {},
   "outputs": [
    {
     "data": {
      "text/html": [
       "<div>\n",
       "<style scoped>\n",
       "    .dataframe tbody tr th:only-of-type {\n",
       "        vertical-align: middle;\n",
       "    }\n",
       "\n",
       "    .dataframe tbody tr th {\n",
       "        vertical-align: top;\n",
       "    }\n",
       "\n",
       "    .dataframe thead th {\n",
       "        text-align: right;\n",
       "    }\n",
       "</style>\n",
       "<table border=\"1\" class=\"dataframe\">\n",
       "  <thead>\n",
       "    <tr style=\"text-align: right;\">\n",
       "      <th></th>\n",
       "      <th>tweet</th>\n",
       "      <th>labels</th>\n",
       "    </tr>\n",
       "  </thead>\n",
       "  <tbody>\n",
       "    <tr>\n",
       "      <th>0</th>\n",
       "      <td>!!! RT @mayasolovely: As a woman you shouldn't...</td>\n",
       "      <td>Neutral Language</td>\n",
       "    </tr>\n",
       "    <tr>\n",
       "      <th>1</th>\n",
       "      <td>!!!!! RT @mleew17: boy dats cold...tyga dwn ba...</td>\n",
       "      <td>Offensive Language</td>\n",
       "    </tr>\n",
       "    <tr>\n",
       "      <th>2</th>\n",
       "      <td>!!!!!!! RT @UrKindOfBrand Dawg!!!! RT @80sbaby...</td>\n",
       "      <td>Offensive Language</td>\n",
       "    </tr>\n",
       "    <tr>\n",
       "      <th>3</th>\n",
       "      <td>!!!!!!!!! RT @C_G_Anderson: @viva_based she lo...</td>\n",
       "      <td>Offensive Language</td>\n",
       "    </tr>\n",
       "    <tr>\n",
       "      <th>4</th>\n",
       "      <td>!!!!!!!!!!!!! RT @ShenikaRoberts: The shit you...</td>\n",
       "      <td>Offensive Language</td>\n",
       "    </tr>\n",
       "    <tr>\n",
       "      <th>...</th>\n",
       "      <td>...</td>\n",
       "      <td>...</td>\n",
       "    </tr>\n",
       "    <tr>\n",
       "      <th>24778</th>\n",
       "      <td>you's a muthaf***in lie &amp;#8220;@LifeAsKing: @2...</td>\n",
       "      <td>Offensive Language</td>\n",
       "    </tr>\n",
       "    <tr>\n",
       "      <th>24779</th>\n",
       "      <td>you've gone and broke the wrong heart baby, an...</td>\n",
       "      <td>Neutral Language</td>\n",
       "    </tr>\n",
       "    <tr>\n",
       "      <th>24780</th>\n",
       "      <td>young buck wanna eat!!.. dat nigguh like I ain...</td>\n",
       "      <td>Offensive Language</td>\n",
       "    </tr>\n",
       "    <tr>\n",
       "      <th>24781</th>\n",
       "      <td>youu got wild bitches tellin you lies</td>\n",
       "      <td>Offensive Language</td>\n",
       "    </tr>\n",
       "    <tr>\n",
       "      <th>24782</th>\n",
       "      <td>~~Ruffled | Ntac Eileen Dahlia - Beautiful col...</td>\n",
       "      <td>Neutral Language</td>\n",
       "    </tr>\n",
       "  </tbody>\n",
       "</table>\n",
       "<p>24783 rows × 2 columns</p>\n",
       "</div>"
      ],
      "text/plain": [
       "                                                   tweet              labels\n",
       "0      !!! RT @mayasolovely: As a woman you shouldn't...    Neutral Language\n",
       "1      !!!!! RT @mleew17: boy dats cold...tyga dwn ba...  Offensive Language\n",
       "2      !!!!!!! RT @UrKindOfBrand Dawg!!!! RT @80sbaby...  Offensive Language\n",
       "3      !!!!!!!!! RT @C_G_Anderson: @viva_based she lo...  Offensive Language\n",
       "4      !!!!!!!!!!!!! RT @ShenikaRoberts: The shit you...  Offensive Language\n",
       "...                                                  ...                 ...\n",
       "24778  you's a muthaf***in lie &#8220;@LifeAsKing: @2...  Offensive Language\n",
       "24779  you've gone and broke the wrong heart baby, an...    Neutral Language\n",
       "24780  young buck wanna eat!!.. dat nigguh like I ain...  Offensive Language\n",
       "24781              youu got wild bitches tellin you lies  Offensive Language\n",
       "24782  ~~Ruffled | Ntac Eileen Dahlia - Beautiful col...    Neutral Language\n",
       "\n",
       "[24783 rows x 2 columns]"
      ]
     },
     "execution_count": 3,
     "metadata": {},
     "output_type": "execute_result"
    }
   ],
   "source": [
    "ndf[\"labels\"]= ndf[\"class\"].map({0:\"Hate Speech\",1:\"Offensive Language\",2:\"Neutral Language\"})\n",
    "df = ndf[[\"tweet\",\"labels\"]]\n",
    "df"
   ]
  },
  {
   "cell_type": "code",
   "execution_count": 4,
   "id": "95ae1475",
   "metadata": {},
   "outputs": [
    {
     "name": "stderr",
     "output_type": "stream",
     "text": [
      "[nltk_data] Downloading package stopwords to\n",
      "[nltk_data]     C:\\Users\\nitin\\AppData\\Roaming\\nltk_data...\n",
      "[nltk_data]   Package stopwords is already up-to-date!\n"
     ]
    }
   ],
   "source": [
    "import re\n",
    "import nltk\n",
    "# Download stopwords if not already present\n",
    "nltk.download('stopwords')\n",
    "from nltk.corpus import stopwords\n",
    "stop_words = set(stopwords.words('english'))\n",
    "stemmer = nltk.SnowballStemmer('english')"
   ]
  },
  {
   "cell_type": "code",
   "execution_count": 5,
   "id": "9f01dbe2",
   "metadata": {},
   "outputs": [
    {
     "name": "stdout",
     "output_type": "stream",
     "text": [
      "                                               tweet              labels\n",
      "0  rt woman shouldnt complain cleaning house amp ...    Neutral Language\n",
      "1  rt boy dats coldtyga dwn bad cuffin dat hoe st...  Offensive Language\n",
      "2  rt dawg rt ever fuck bitch start cry confused ...  Offensive Language\n",
      "3                                rt look like tranny  Offensive Language\n",
      "4  rt shit hear might true might faker bitch told ya  Offensive Language\n"
     ]
    },
    {
     "name": "stderr",
     "output_type": "stream",
     "text": [
      "C:\\Users\\nitin\\AppData\\Local\\Temp\\ipykernel_43072\\1030573999.py:37: SettingWithCopyWarning: \n",
      "A value is trying to be set on a copy of a slice from a DataFrame.\n",
      "Try using .loc[row_indexer,col_indexer] = value instead\n",
      "\n",
      "See the caveats in the documentation: https://pandas.pydata.org/pandas-docs/stable/user_guide/indexing.html#returning-a-view-versus-a-copy\n",
      "  df['tweet'] = df['tweet'].apply(clean_text)\n"
     ]
    }
   ],
   "source": [
    "def clean_text(text: str) -> str:\n",
    "    if not isinstance(text, str):\n",
    "        return \"\"  # Return empty string for non-string values\n",
    "\n",
    "    # 1. Convert to lowercase\n",
    "    text = text.lower()\n",
    "\n",
    "    # 2. Remove URLs (http/https links)\n",
    "    text = re.sub(r'http\\S+|www\\S+|https\\S+', '', text, flags=re.MULTILINE)\n",
    "\n",
    "    # 3. Remove user mentions (@username)\n",
    "    text = re.sub(r'@\\w+', '', text)\n",
    "\n",
    "    # 4. Remove hashtags (#hashtag) - keep the word if desired, but remove the '#'\n",
    "    # This regex removes the entire hashtag including the '#'\n",
    "    text = re.sub(r'#\\w+', '', text)\n",
    "\n",
    "    # 5. Remove punctuation and special characters (keep only letters and spaces)\n",
    "    # This regex keeps alphanumeric characters and spaces, removing everything else\n",
    "    text = re.sub(r'[^a-z\\s]', '', text)\n",
    "\n",
    "    # 6. Remove numbers (if not already removed by the above regex for non-alphanumeric)\n",
    "    text = re.sub(r'\\d+', '', text)\n",
    "\n",
    "    # 7. Remove extra whitespace (leading, trailing, and multiple spaces between words)\n",
    "    text = re.sub(r'\\s+', ' ', text).strip()\n",
    "\n",
    "    # 8. Remove stopwords\n",
    "    # Split text into words, filter out stopwords, and join back\n",
    "    words = text.split()\n",
    "    filtered_words = [word for word in words if word not in stop_words]\n",
    "    text = \" \".join(filtered_words)\n",
    "\n",
    "    return text\n",
    "\n",
    "# Apply the cleaning function to the 'tweet' column\n",
    "df['tweet'] = df['tweet'].apply(clean_text)\n",
    "\n",
    "# Display the cleaned data (optional)\n",
    "print(df.head())\n"
   ]
  },
  {
   "cell_type": "code",
   "execution_count": 6,
   "id": "f357d1d8",
   "metadata": {},
   "outputs": [
    {
     "data": {
      "text/html": [
       "<div>\n",
       "<style scoped>\n",
       "    .dataframe tbody tr th:only-of-type {\n",
       "        vertical-align: middle;\n",
       "    }\n",
       "\n",
       "    .dataframe tbody tr th {\n",
       "        vertical-align: top;\n",
       "    }\n",
       "\n",
       "    .dataframe thead th {\n",
       "        text-align: right;\n",
       "    }\n",
       "</style>\n",
       "<table border=\"1\" class=\"dataframe\">\n",
       "  <thead>\n",
       "    <tr style=\"text-align: right;\">\n",
       "      <th></th>\n",
       "      <th>tweet</th>\n",
       "      <th>labels</th>\n",
       "    </tr>\n",
       "  </thead>\n",
       "  <tbody>\n",
       "    <tr>\n",
       "      <th>0</th>\n",
       "      <td>rt woman shouldnt complain cleaning house amp ...</td>\n",
       "      <td>Neutral Language</td>\n",
       "    </tr>\n",
       "    <tr>\n",
       "      <th>1</th>\n",
       "      <td>rt boy dats coldtyga dwn bad cuffin dat hoe st...</td>\n",
       "      <td>Offensive Language</td>\n",
       "    </tr>\n",
       "    <tr>\n",
       "      <th>2</th>\n",
       "      <td>rt dawg rt ever fuck bitch start cry confused ...</td>\n",
       "      <td>Offensive Language</td>\n",
       "    </tr>\n",
       "    <tr>\n",
       "      <th>3</th>\n",
       "      <td>rt look like tranny</td>\n",
       "      <td>Offensive Language</td>\n",
       "    </tr>\n",
       "    <tr>\n",
       "      <th>4</th>\n",
       "      <td>rt shit hear might true might faker bitch told ya</td>\n",
       "      <td>Offensive Language</td>\n",
       "    </tr>\n",
       "    <tr>\n",
       "      <th>...</th>\n",
       "      <td>...</td>\n",
       "      <td>...</td>\n",
       "    </tr>\n",
       "    <tr>\n",
       "      <th>24778</th>\n",
       "      <td>yous muthafin lie right tl trash mine bible sc...</td>\n",
       "      <td>Offensive Language</td>\n",
       "    </tr>\n",
       "    <tr>\n",
       "      <th>24779</th>\n",
       "      <td>youve gone broke wrong heart baby drove rednec...</td>\n",
       "      <td>Neutral Language</td>\n",
       "    </tr>\n",
       "    <tr>\n",
       "      <th>24780</th>\n",
       "      <td>young buck wanna eat dat nigguh like aint fuck...</td>\n",
       "      <td>Offensive Language</td>\n",
       "    </tr>\n",
       "    <tr>\n",
       "      <th>24781</th>\n",
       "      <td>youu got wild bitches tellin lies</td>\n",
       "      <td>Offensive Language</td>\n",
       "    </tr>\n",
       "    <tr>\n",
       "      <th>24782</th>\n",
       "      <td>ruffled ntac eileen dahlia beautiful color com...</td>\n",
       "      <td>Neutral Language</td>\n",
       "    </tr>\n",
       "  </tbody>\n",
       "</table>\n",
       "<p>24783 rows × 2 columns</p>\n",
       "</div>"
      ],
      "text/plain": [
       "                                                   tweet              labels\n",
       "0      rt woman shouldnt complain cleaning house amp ...    Neutral Language\n",
       "1      rt boy dats coldtyga dwn bad cuffin dat hoe st...  Offensive Language\n",
       "2      rt dawg rt ever fuck bitch start cry confused ...  Offensive Language\n",
       "3                                    rt look like tranny  Offensive Language\n",
       "4      rt shit hear might true might faker bitch told ya  Offensive Language\n",
       "...                                                  ...                 ...\n",
       "24778  yous muthafin lie right tl trash mine bible sc...  Offensive Language\n",
       "24779  youve gone broke wrong heart baby drove rednec...    Neutral Language\n",
       "24780  young buck wanna eat dat nigguh like aint fuck...  Offensive Language\n",
       "24781                  youu got wild bitches tellin lies  Offensive Language\n",
       "24782  ruffled ntac eileen dahlia beautiful color com...    Neutral Language\n",
       "\n",
       "[24783 rows x 2 columns]"
      ]
     },
     "execution_count": 6,
     "metadata": {},
     "output_type": "execute_result"
    }
   ],
   "source": [
    "df"
   ]
  },
  {
   "cell_type": "code",
   "execution_count": 7,
   "id": "ffe1d83e",
   "metadata": {},
   "outputs": [],
   "source": [
    "X= np.array(df['tweet'])\n",
    "Y= np.array(df['labels'])"
   ]
  },
  {
   "cell_type": "code",
   "execution_count": 8,
   "id": "4847ffdf",
   "metadata": {},
   "outputs": [],
   "source": [
    "from sklearn.feature_extraction.text import CountVectorizer\n",
    "from sklearn.model_selection import train_test_split\n",
    "vectorizer = CountVectorizer()"
   ]
  },
  {
   "cell_type": "code",
   "execution_count": 9,
   "id": "5160530a",
   "metadata": {},
   "outputs": [],
   "source": [
    "X = vectorizer.fit_transform(X)"
   ]
  },
  {
   "cell_type": "code",
   "execution_count": 10,
   "id": "6134fa41",
   "metadata": {},
   "outputs": [],
   "source": [
    "X_train, X_test, Y_train, Y_test = train_test_split(X, Y, test_size=0.2, random_state=42)"
   ]
  },
  {
   "cell_type": "code",
   "execution_count": 11,
   "id": "21886ed0",
   "metadata": {},
   "outputs": [],
   "source": [
    "from sklearn.tree import DecisionTreeClassifier\n",
    "model = DecisionTreeClassifier()\n",
    "model.fit(X_train, Y_train)\n",
    "Y_pred = model.predict(X_test)"
   ]
  },
  {
   "cell_type": "code",
   "execution_count": 12,
   "id": "cd7d6a10",
   "metadata": {},
   "outputs": [
    {
     "data": {
      "text/plain": [
       "array([[  94,   32,  164],\n",
       "       [  55,  699,   81],\n",
       "       [ 191,  145, 3496]], dtype=int64)"
      ]
     },
     "execution_count": 12,
     "metadata": {},
     "output_type": "execute_result"
    }
   ],
   "source": [
    "#confusion matrix and accuracy\n",
    "from sklearn.metrics import confusion_matrix, accuracy_score\n",
    "cm = confusion_matrix(Y_test, Y_pred)\n",
    "accuracy = accuracy_score(Y_test, Y_pred)\n",
    "cm"
   ]
  },
  {
   "cell_type": "code",
   "execution_count": 13,
   "id": "0e5b304c",
   "metadata": {},
   "outputs": [
    {
     "data": {
      "text/plain": [
       "<Axes: >"
      ]
     },
     "execution_count": 13,
     "metadata": {},
     "output_type": "execute_result"
    },
    {
     "data": {
      "image/png": "[encoded data removed]",
      "text/plain": [
       "<Figure size 640x480 with 2 Axes>"
      ]
     },
     "metadata": {},
     "output_type": "display_data"
    }
   ],
   "source": [
    "import matplotlib.pyplot as plt\n",
    "import seaborn as sns\n",
    "%matplotlib inline\n",
    "sns.heatmap(cm, annot=True, fmt='f', cmap='YlGnBu', xticklabels=['Hate Speech', 'Offensive Language', 'Neutral Language'], \n",
    "            yticklabels=['Hate Speech', 'Offensive Language', 'Neutral Language'])"
   ]
  },
  {
   "cell_type": "code",
   "execution_count": 14,
   "id": "68b90a57",
   "metadata": {},
   "outputs": [
    {
     "data": {
      "text/plain": [
       "0.8652410732297761"
      ]
     },
     "execution_count": 14,
     "metadata": {},
     "output_type": "execute_result"
    }
   ],
   "source": [
    "accuracy_score(Y_test, Y_pred)"
   ]
  },
  {
   "cell_type": "code",
   "execution_count": 15,
   "id": "c71cca32",
   "metadata": {},
   "outputs": [],
   "source": [
    "import pickle\n",
    "pickle_model_path = 'model.pkl'\n",
    "with open(pickle_model_path, 'wb') as f:\n",
    "    pickle.dump(model, f)"
   ]
  },
  {
   "cell_type": "code",
   "execution_count": null,
   "id": "b66c7bf4",
   "metadata": {},
   "outputs": [],
   "source": []
  }
 ],
 "metadata": {
  "kernelspec": {
   "display_name": "base",
   "language": "python",
   "name": "python3"
  },
  "language_info": {
   "codemirror_mode": {
    "name": "ipython",
    "version": 3
   },
   "file_extension": ".py",
   "mimetype": "text/x-python",
   "name": "python",
   "nbconvert_exporter": "python",
   "pygments_lexer": "ipython3",
   "version": "3.12.7"
  }
 },
 "nbformat": 4,
 "nbformat_minor": 5
}
